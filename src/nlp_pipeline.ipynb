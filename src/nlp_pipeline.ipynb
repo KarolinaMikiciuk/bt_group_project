{
 "cells": [
  {
   "cell_type": "markdown",
   "id": "23d5d2ab",
   "metadata": {},
   "source": [
    "# Analysis Utils"
   ]
  },
  {
   "cell_type": "code",
   "execution_count": 3,
   "id": "56d76b14",
   "metadata": {},
   "outputs": [],
   "source": [
    "def return_oov_tokens(cleaned_reviews):\n",
    "    \"\"\"Returns a set of out-of-vocabulary tokens.\n",
    "       Use it to check which words in our review content\n",
    "       are unrecognisable to SpaCy.\n",
    "    \"\"\"\n",
    "    oov_tokens = set()\n",
    "    \n",
    "    for review in cleaned_reviews:\n",
    "        cleaned_reviews_doc = loaded_lang_model(review)\n",
    "\n",
    "        for token in cleaned_reviews_doc:\n",
    "            if token.is_oov and (not token.is_space):\n",
    "                oov_tokens.add(token.text)\n",
    "    return oov_tokens"
   ]
  },
  {
   "cell_type": "markdown",
   "id": "3520e0b8",
   "metadata": {},
   "source": [
    "# Running Utils"
   ]
  },
  {
   "cell_type": "code",
   "execution_count": 4,
   "id": "93233a72",
   "metadata": {},
   "outputs": [],
   "source": [
    "import spacy\n",
    "import pandas as pd\n",
    "import os\n",
    "\n",
    "def remove_punctuation(text):\n",
    "    \"\"\"Removes punctuation.\"\"\"\n",
    "    acceptable = ['£','%']\n",
    "    text = text.replace('\\n', \" \").replace('\\t','').replace('\\r','')\n",
    "    clean_chars = [char.lower() for char in text if char.isalnum() or char.isspace() or (char in acceptable)]\n",
    "    return \"\".join(clean_chars)\n",
    "\n",
    "\n",
    "\n",
    "def all_files_in_folder(current_folder_path):\n",
    "    \"\"\"Gets all names of the files in the 'current' folder.\"\"\"\n",
    "    files_list = []\n",
    "    files_n_dirs = os.listdir(current_folder_path) # folders and files in current folder\n",
    "\n",
    "    for file in files_n_dirs:\n",
    "        path_to_file = os.path.join(current_folder_path,file) # folder abs path + file_name\n",
    "        is_file = os.path.isfile(path_to_file)\n",
    "        if is_file == True:\n",
    "            files_list.append(path_to_file)\n",
    "    return files_list\n",
    "\n",
    "\n",
    "\n",
    "def clean_all_files(files_list):\n",
    "    \"\"\"Returns a list of all reviews without punctuation.\"\"\"\n",
    "    reviews = []\n",
    "\n",
    "    for file in files_list:\n",
    "        df = pd.read_csv(file)\n",
    "        corpus_df = df['content']\n",
    "        corpus_df = corpus_df.apply(remove_punctuation) # series object\n",
    "        reviews.append(corpus_df.tolist())\n",
    "    return reviews\n",
    "\n",
    "\n",
    "\n",
    "\n",
    "def extend_review_list(cleaned_reviews):\n",
    "    \"\"\"Returns a list with all the elements of all the lists in the cleaned_revis list.\"\"\"\n",
    "    extended_list = []\n",
    "    for item_list in cleaned_reviews:\n",
    "        extended_list.extend(item_list)\n",
    "    return extended_list\n",
    "\n",
    "\n",
    "\n",
    "\n",
    "def lemmatise_and_rmv_stopwords(review):\n",
    "    \"\"\"Returns lemmatised review content without stopwords.\"\"\"\n",
    "    no_stop_wrds_review = \" \".join([token.lemma_ for token in review if token.is_stop == False])\n",
    "    return no_stop_wrds_review"
   ]
  },
  {
   "cell_type": "markdown",
   "id": "796a3bb7",
   "metadata": {},
   "source": [
    "# Main body"
   ]
  },
  {
   "cell_type": "code",
   "execution_count": 5,
   "id": "35677fd3",
   "metadata": {},
   "outputs": [],
   "source": [
    "folder = '/home/mrfox/Desktop/bt_group_project/data'\n",
    "list_of_review_files = all_files_in_folder(folder)\n",
    "cleaned_reviews = extend_review_list(clean_all_files(list_of_review_files))\n",
    "\n",
    "#print(cleaned_reviews)\n",
    "\n",
    "\n",
    "#DATA PROFILING:\n",
    "# list of 80 lists, each is one page worth of reviews\n",
    "# there are almost exactly 40 reviews on each page, incl. the last one\n",
    "# 80*40 = 3200, we are 8 reviews short of that number, this is probably\n",
    "# due to 8 people not submitting a review, just the ratings\n",
    "\n",
    "\n",
    "loaded_lang_model = spacy.load(\"en_core_web_lg\") # use lg to be able to use word vectors\n"
   ]
  },
  {
   "cell_type": "code",
   "execution_count": null,
   "id": "f660a7ab",
   "metadata": {
    "scrolled": false
   },
   "outputs": [],
   "source": [
    "oov_tokens = return_oov_tokens(cleaned_reviews)\n",
    "#print(oov_tokens)"
   ]
  }
 ],
 "metadata": {
  "kernelspec": {
   "display_name": "Python 3 (ipykernel)",
   "language": "python",
   "name": "python3"
  },
  "language_info": {
   "codemirror_mode": {
    "name": "ipython",
    "version": 3
   },
   "file_extension": ".py",
   "mimetype": "text/x-python",
   "name": "python",
   "nbconvert_exporter": "python",
   "pygments_lexer": "ipython3",
   "version": "3.9.7"
  },
  "toc": {
   "base_numbering": 1,
   "nav_menu": {},
   "number_sections": true,
   "sideBar": true,
   "skip_h1_title": false,
   "title_cell": "Table of Contents",
   "title_sidebar": "Contents",
   "toc_cell": false,
   "toc_position": {},
   "toc_section_display": true,
   "toc_window_display": false
  }
 },
 "nbformat": 4,
 "nbformat_minor": 5
}
