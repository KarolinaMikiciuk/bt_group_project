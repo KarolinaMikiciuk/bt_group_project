{
 "cells": [
  {
   "cell_type": "markdown",
   "id": "3cd448df",
   "metadata": {},
   "source": [
    "# Collection Utils"
   ]
  },
  {
   "cell_type": "code",
   "execution_count": null,
   "id": "2b01e6e2",
   "metadata": {},
   "outputs": [],
   "source": [
    "import os\n",
    "\n",
    "def all_files_in_folder(current_folder_path):\n",
    "    \"\"\"Gets all names of the files in the 'current' folder.\"\"\"\n",
    "    files_list = []\n",
    "    files_n_dirs = os.listdir(current_folder_path) # folders and files in current folder\n",
    "\n",
    "    for i,file in enumerate(files_n_dirs):\n",
    "        if i == 4:\n",
    "            break\n",
    "        else:\n",
    "            path_to_file = os.path.join(current_folder_path,file) # folder abs path + file_name\n",
    "            is_file = os.path.isfile(path_to_file)\n",
    "            if is_file == True:\n",
    "                files_list.append(path_to_file)\n",
    "    return files_list\n"
   ]
  },
  {
   "cell_type": "markdown",
   "id": "23d5d2ab",
   "metadata": {},
   "source": [
    "# Analysis Utils"
   ]
  },
  {
   "cell_type": "code",
   "execution_count": 1,
   "id": "56d76b14",
   "metadata": {},
   "outputs": [],
   "source": [
    "def return_oov_tokens(cleaned_reviews):\n",
    "    \"\"\"Returns a set of out-of-vocabulary tokens.\n",
    "       Use it to check which words in our review content\n",
    "       are unrecognisable to SpaCy.\n",
    "    \"\"\"\n",
    "    oov_tokens = set()\n",
    "    \n",
    "    for review in cleaned_reviews:\n",
    "        cleaned_reviews_doc = loaded_lang_model(review)\n",
    "\n",
    "        for token in cleaned_reviews_doc:\n",
    "            if token.is_oov and (not token.is_space):\n",
    "                oov_tokens.add(token.text)\n",
    "    return oov_tokens"
   ]
  },
  {
   "cell_type": "markdown",
   "id": "3520e0b8",
   "metadata": {},
   "source": [
    "# Running Utils"
   ]
  },
  {
   "cell_type": "code",
   "execution_count": 19,
   "id": "93233a72",
   "metadata": {},
   "outputs": [],
   "source": [
    "import spacy\n",
    "\n",
    "def remove_punctuation(text):\n",
    "    \"\"\"Removes punctuation.\"\"\"\n",
    "    acceptable = ['£','%']\n",
    "    text = text.replace('\\n', \" \").replace('\\t','').replace('\\r','')\n",
    "    clean_chars = [char.lower() for char in text if char.isalnum() or char.isspace() or (char in acceptable)]\n",
    "    return \"\".join(clean_chars)\n",
    "\n",
    "def lemmatise_and_rmv_stopwords(review):\n",
    "    \"\"\"Returns lemmatised review content without stopwords.\"\"\"\n",
    "    parser = English()\n",
    "    review = parser(review)\n",
    "    clean = \" \".join([token.lemma_ for token in review if ((token.is_stop == False) and (token.is_space == False))])\n",
    "    return clean\n",
    "\n",
    "def prepare_txt_for_lda(text):\n",
    "    \"\"\"Filters out words shorter than 5 characters. Returns filtered tokens.\"\"\"\n",
    "    tokens = [token for token in text if len(token) > 4]\n",
    "    return tokens    "
   ]
  },
  {
   "cell_type": "markdown",
   "id": "796a3bb7",
   "metadata": {},
   "source": [
    "# Main body"
   ]
  },
  {
   "cell_type": "markdown",
   "id": "399b6160",
   "metadata": {},
   "source": [
    "## Read in reviews into a list"
   ]
  },
  {
   "cell_type": "code",
   "execution_count": 20,
   "id": "35677fd3",
   "metadata": {},
   "outputs": [],
   "source": [
    "import csv\n",
    "from spacy.lang.en import English\n",
    "\n",
    "folder = '/home/mrfox/Desktop/bt_group_project/data'\n",
    "list_of_review_files = all_files_in_folder(folder) # return a list of all files in folder\n",
    "\n",
    "list_of_reviews = []\n",
    "for file in list_of_review_files: #iterate over files list, read each file, append review text to list_of_reviews\n",
    "    with open(file) as csv_f:\n",
    "        file_reader = csv.reader(csv_f)\n",
    "        \n",
    "        for row in file_reader:\n",
    "            content = row[0][:-3] # removes the tildes\n",
    "            list_of_reviews.append(content)\n"
   ]
  },
  {
   "cell_type": "markdown",
   "id": "69324151",
   "metadata": {
    "scrolled": true
   },
   "source": [
    "## Clean the reviews in the list for NLP analysis"
   ]
  },
  {
   "cell_type": "code",
   "execution_count": 21,
   "id": "643fbac4",
   "metadata": {},
   "outputs": [],
   "source": [
    "clean_reviews = []\n",
    "for review in list_of_reviews:\n",
    "    no_punct_review = remove_punctuation(review)\n",
    "    lemmatised_no_stop_review = lemmatise_and_rmv_stopwords(no_punct_review)\n",
    "    no_short_tokens_review = prepare_txt_for_lda(lemmatised_no_stop_review) # remove tokens that are too short\n",
    "    clean_reviews.append(no_short_tokens_review)\n",
    "    "
   ]
  },
  {
   "cell_type": "markdown",
   "id": "30b560c2",
   "metadata": {},
   "source": [
    "# Topic Modelling"
   ]
  },
  {
   "cell_type": "code",
   "execution_count": null,
   "id": "c18d74f2",
   "metadata": {},
   "outputs": [],
   "source": []
  },
  {
   "cell_type": "code",
   "execution_count": null,
   "id": "dc4bd8bc",
   "metadata": {},
   "outputs": [],
   "source": []
  },
  {
   "cell_type": "code",
   "execution_count": null,
   "id": "73e2092e",
   "metadata": {},
   "outputs": [],
   "source": []
  },
  {
   "cell_type": "code",
   "execution_count": null,
   "id": "c8e417df",
   "metadata": {},
   "outputs": [],
   "source": []
  },
  {
   "cell_type": "code",
   "execution_count": null,
   "id": "cfa2c7d9",
   "metadata": {},
   "outputs": [],
   "source": []
  },
  {
   "cell_type": "code",
   "execution_count": null,
   "id": "b2567433",
   "metadata": {},
   "outputs": [],
   "source": []
  },
  {
   "cell_type": "code",
   "execution_count": null,
   "id": "6e59cf80",
   "metadata": {},
   "outputs": [],
   "source": []
  },
  {
   "cell_type": "code",
   "execution_count": null,
   "id": "23408006",
   "metadata": {},
   "outputs": [],
   "source": []
  },
  {
   "cell_type": "code",
   "execution_count": null,
   "id": "00844b11",
   "metadata": {},
   "outputs": [],
   "source": []
  },
  {
   "cell_type": "code",
   "execution_count": null,
   "id": "3cfc115b",
   "metadata": {},
   "outputs": [],
   "source": []
  },
  {
   "cell_type": "code",
   "execution_count": null,
   "id": "f69443be",
   "metadata": {},
   "outputs": [],
   "source": []
  }
 ],
 "metadata": {
  "kernelspec": {
   "display_name": "Python 3 (ipykernel)",
   "language": "python",
   "name": "python3"
  },
  "language_info": {
   "codemirror_mode": {
    "name": "ipython",
    "version": 3
   },
   "file_extension": ".py",
   "mimetype": "text/x-python",
   "name": "python",
   "nbconvert_exporter": "python",
   "pygments_lexer": "ipython3",
   "version": "3.9.9"
  },
  "toc": {
   "base_numbering": 1,
   "nav_menu": {},
   "number_sections": true,
   "sideBar": true,
   "skip_h1_title": false,
   "title_cell": "Table of Contents",
   "title_sidebar": "Contents",
   "toc_cell": false,
   "toc_position": {},
   "toc_section_display": true,
   "toc_window_display": false
  }
 },
 "nbformat": 4,
 "nbformat_minor": 5
}
