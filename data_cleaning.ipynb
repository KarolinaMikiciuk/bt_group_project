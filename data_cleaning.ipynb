{
 "cells": [
  {
   "cell_type": "markdown",
   "id": "81fe474a",
   "metadata": {},
   "source": [
    "# Data Cleaning"
   ]
  },
  {
   "cell_type": "code",
   "execution_count": 1,
   "id": "fdef246b",
   "metadata": {},
   "outputs": [],
   "source": [
    "import pandas as pd\n",
    "import glob\n",
    "import numpy as np\n",
    "import seaborn as sns\n",
    "import matplotlib.pyplot as plt\n",
    "from utils import LOCATION"
   ]
  },
  {
   "cell_type": "markdown",
   "id": "4ad64207",
   "metadata": {},
   "source": [
    "### Loading dataframe from csv files"
   ]
  },
  {
   "cell_type": "markdown",
   "id": "a0d5492d",
   "metadata": {},
   "source": [
    "<div class=\"alert alert-block alert-success\">\n",
    "<b>Our data (source code) is present in several (80) csv files.\n",
    "    \n",
    "The below code copies all the csv files and loads it to a pandas dataframe\n",
    "</div>"
   ]
  },
  {
   "cell_type": "code",
   "execution_count": 2,
   "id": "8df0dd64",
   "metadata": {},
   "outputs": [
    {
     "data": {
      "text/html": [
       "<div>\n",
       "<style scoped>\n",
       "    .dataframe tbody tr th:only-of-type {\n",
       "        vertical-align: middle;\n",
       "    }\n",
       "\n",
       "    .dataframe tbody tr th {\n",
       "        vertical-align: top;\n",
       "    }\n",
       "\n",
       "    .dataframe thead th {\n",
       "        text-align: right;\n",
       "    }\n",
       "</style>\n",
       "<table border=\"1\" class=\"dataframe\">\n",
       "  <thead>\n",
       "    <tr style=\"text-align: right;\">\n",
       "      <th></th>\n",
       "      <th>index</th>\n",
       "      <th>content</th>\n",
       "      <th>location</th>\n",
       "      <th>date</th>\n",
       "      <th>satisfaction</th>\n",
       "      <th>customer_service</th>\n",
       "      <th>speed</th>\n",
       "      <th>reliability</th>\n",
       "    </tr>\n",
       "  </thead>\n",
       "  <tbody>\n",
       "    <tr>\n",
       "      <th>0</th>\n",
       "      <td>0</td>\n",
       "      <td>Awful service  awful internet speed and reliab...</td>\n",
       "      <td>Manchester~~~</td>\n",
       "      <td>2017-07-06~~~</td>\n",
       "      <td>1</td>\n",
       "      <td>1</td>\n",
       "      <td>1</td>\n",
       "      <td>1</td>\n",
       "    </tr>\n",
       "    <tr>\n",
       "      <th>1</th>\n",
       "      <td>1</td>\n",
       "      <td>Poor customer service. Had to speak to 7 peopl...</td>\n",
       "      <td>Norbury~~~</td>\n",
       "      <td>2017-07-06~~~</td>\n",
       "      <td>2</td>\n",
       "      <td>2</td>\n",
       "      <td>3</td>\n",
       "      <td>3</td>\n",
       "    </tr>\n",
       "    <tr>\n",
       "      <th>2</th>\n",
       "      <td>2</td>\n",
       "      <td>Dreadful in every aspect. It simply does not w...</td>\n",
       "      <td>Tenbury Wells~~~</td>\n",
       "      <td>2017-07-05~~~</td>\n",
       "      <td>1</td>\n",
       "      <td>1</td>\n",
       "      <td>1</td>\n",
       "      <td>1</td>\n",
       "    </tr>\n",
       "    <tr>\n",
       "      <th>3</th>\n",
       "      <td>3</td>\n",
       "      <td>SHOCKING service. Placed order  got told it wi...</td>\n",
       "      <td>Morpeth~~~</td>\n",
       "      <td>2017-07-04~~~</td>\n",
       "      <td>1</td>\n",
       "      <td>1</td>\n",
       "      <td>1</td>\n",
       "      <td>1</td>\n",
       "    </tr>\n",
       "    <tr>\n",
       "      <th>4</th>\n",
       "      <td>4</td>\n",
       "      <td>Very unhappy with connection quality and custo...</td>\n",
       "      <td>Norfolk~~~</td>\n",
       "      <td>2017-07-04~~~</td>\n",
       "      <td>1</td>\n",
       "      <td>1</td>\n",
       "      <td>1</td>\n",
       "      <td>1</td>\n",
       "    </tr>\n",
       "  </tbody>\n",
       "</table>\n",
       "</div>"
      ],
      "text/plain": [
       "   index                                            content          location  \\\n",
       "0      0  Awful service  awful internet speed and reliab...     Manchester~~~   \n",
       "1      1  Poor customer service. Had to speak to 7 peopl...        Norbury~~~   \n",
       "2      2  Dreadful in every aspect. It simply does not w...  Tenbury Wells~~~   \n",
       "3      3  SHOCKING service. Placed order  got told it wi...        Morpeth~~~   \n",
       "4      4  Very unhappy with connection quality and custo...        Norfolk~~~   \n",
       "\n",
       "            date satisfaction customer_service speed reliability  \n",
       "0  2017-07-06~~~            1                1     1           1  \n",
       "1  2017-07-06~~~            2                2     3           3  \n",
       "2  2017-07-05~~~            1                1     1           1  \n",
       "3  2017-07-04~~~            1                1     1           1  \n",
       "4  2017-07-04~~~            1                1     1           1  "
      ]
     },
     "execution_count": 2,
     "metadata": {},
     "output_type": "execute_result"
    }
   ],
   "source": [
    "# specifying the path to csv files\n",
    "path = LOCATION\n",
    "# print(path)  \n",
    "\n",
    "# csv files in the path\n",
    "files = glob.glob(path + \"*.csv\")\n",
    "  \n",
    "# defining an empty list to store content\n",
    "data_frame = pd.DataFrame()\n",
    "content = []\n",
    "  \n",
    "# checking all the csv files in the specified path\n",
    "for filename in files:\n",
    "#     print(filename)\n",
    "    # reading content of csv file\n",
    "    if filename.find('data/data')!= -1:\n",
    "        df = pd.read_csv(filename, index_col=None)\n",
    "        content.append(df)\n",
    "  \n",
    "# converting content to data frame\n",
    "data_frame = pd.concat(content)\n",
    "\n",
    "# to reset index from 0-3191\n",
    "data_frame = data_frame.reset_index()\n",
    "data_frame\n",
    "\n",
    "# replacing column name reliability, with reliability\n",
    "data_frame.rename(columns={'reliability,': 'reliability'}, inplace=True)\n",
    "\n",
    "data_frame.head()"
   ]
  },
  {
   "cell_type": "code",
   "execution_count": 3,
   "id": "48d692dc",
   "metadata": {},
   "outputs": [
    {
     "name": "stdout",
     "output_type": "stream",
     "text": [
      "<class 'pandas.core.frame.DataFrame'>\n",
      "RangeIndex: 3192 entries, 0 to 3191\n",
      "Data columns (total 8 columns):\n",
      " #   Column            Non-Null Count  Dtype \n",
      "---  ------            --------------  ----- \n",
      " 0   index             3192 non-null   int64 \n",
      " 1   content           3192 non-null   object\n",
      " 2   location          3192 non-null   object\n",
      " 3   date              3192 non-null   object\n",
      " 4   satisfaction      3192 non-null   object\n",
      " 5   customer_service  3192 non-null   object\n",
      " 6   speed             3192 non-null   object\n",
      " 7   reliability       3192 non-null   object\n",
      "dtypes: int64(1), object(7)\n",
      "memory usage: 199.6+ KB\n"
     ]
    }
   ],
   "source": [
    "data_frame.info()"
   ]
  },
  {
   "cell_type": "markdown",
   "id": "25df10c0",
   "metadata": {},
   "source": [
    "### Cleaning data by removing tilda's and replacing empty strings with NaN"
   ]
  },
  {
   "cell_type": "markdown",
   "id": "a32df25c",
   "metadata": {},
   "source": [
    "<div class=\"alert alert-block alert-info\">\n",
    "It can be observed that there are tilda '~' characters present in the dataframe. \n",
    "\n",
    "This is replaced with empty string and if the column contains only empty string, then it is replaced with NaN\n",
    "</div>"
   ]
  },
  {
   "cell_type": "code",
   "execution_count": 4,
   "id": "7637d6c0",
   "metadata": {},
   "outputs": [],
   "source": [
    "# to replace '~~~' with empty string ''\n",
    "def replace_tilda(df):\n",
    "    df = df.replace('~~~', '', regex=True)\n",
    "    return df\n",
    "\n",
    "\n",
    "# to replace empty strings with Nan\n",
    "def replace_empty_strings_Nan(df):\n",
    "    df = df.replace(r'^\\s*$', np.NaN, regex=True)\n",
    "    return df\n",
    "\n",
    "\n",
    "data_frame = replace_tilda(data_frame)\n",
    "data_frame = replace_empty_strings_Nan(data_frame)"
   ]
  },
  {
   "cell_type": "markdown",
   "id": "f3b229e0",
   "metadata": {},
   "source": [
    "### Checking for duplicate rows in the dataframe"
   ]
  },
  {
   "cell_type": "code",
   "execution_count": 5,
   "id": "a4bceea1",
   "metadata": {},
   "outputs": [
    {
     "data": {
      "text/html": [
       "<div>\n",
       "<style scoped>\n",
       "    .dataframe tbody tr th:only-of-type {\n",
       "        vertical-align: middle;\n",
       "    }\n",
       "\n",
       "    .dataframe tbody tr th {\n",
       "        vertical-align: top;\n",
       "    }\n",
       "\n",
       "    .dataframe thead th {\n",
       "        text-align: right;\n",
       "    }\n",
       "</style>\n",
       "<table border=\"1\" class=\"dataframe\">\n",
       "  <thead>\n",
       "    <tr style=\"text-align: right;\">\n",
       "      <th></th>\n",
       "      <th>index</th>\n",
       "      <th>content</th>\n",
       "      <th>location</th>\n",
       "      <th>date</th>\n",
       "      <th>satisfaction</th>\n",
       "      <th>customer_service</th>\n",
       "      <th>speed</th>\n",
       "      <th>reliability</th>\n",
       "    </tr>\n",
       "  </thead>\n",
       "  <tbody>\n",
       "  </tbody>\n",
       "</table>\n",
       "</div>"
      ],
      "text/plain": [
       "Empty DataFrame\n",
       "Columns: [index, content, location, date, satisfaction, customer_service, speed, reliability]\n",
       "Index: []"
      ]
     },
     "execution_count": 5,
     "metadata": {},
     "output_type": "execute_result"
    }
   ],
   "source": [
    "data_frame[data_frame.duplicated()]"
   ]
  },
  {
   "cell_type": "markdown",
   "id": "33b75ea2",
   "metadata": {},
   "source": [
    "<div class=\"alert alert-block alert-info\">\n",
    "There are no duplicate rows observed in our dataframe\n",
    "</div>"
   ]
  },
  {
   "cell_type": "markdown",
   "id": "2b5d4b99",
   "metadata": {},
   "source": [
    "### Checking for null values in the dataframe"
   ]
  },
  {
   "cell_type": "code",
   "execution_count": 6,
   "id": "82660c54",
   "metadata": {},
   "outputs": [
    {
     "data": {
      "text/plain": [
       "index                 0\n",
       "content               3\n",
       "location             58\n",
       "date                  0\n",
       "satisfaction        360\n",
       "customer_service    396\n",
       "speed               419\n",
       "reliability         431\n",
       "dtype: int64"
      ]
     },
     "execution_count": 6,
     "metadata": {},
     "output_type": "execute_result"
    }
   ],
   "source": [
    "data_frame.isnull().sum()"
   ]
  },
  {
   "cell_type": "code",
   "execution_count": 7,
   "id": "9ecd8225",
   "metadata": {},
   "outputs": [
    {
     "data": {
      "image/png": "[encoded data removed]",
      "text/plain": [
       "<Figure size 720x576 with 1 Axes>"
      ]
     },
     "metadata": {
      "needs_background": "light"
     },
     "output_type": "display_data"
    }
   ],
   "source": [
    "# visualizing the missing data/null values through heat map\n",
    "plt.figure(figsize=(10,8))\n",
    "sns.heatmap(data_frame.isnull(), cbar=False)\n",
    "plt.show()"
   ]
  },
  {
   "cell_type": "code",
   "execution_count": 8,
   "id": "99aa0777",
   "metadata": {},
   "outputs": [
    {
     "data": {
      "text/html": [
       "<div>\n",
       "<style scoped>\n",
       "    .dataframe tbody tr th:only-of-type {\n",
       "        vertical-align: middle;\n",
       "    }\n",
       "\n",
       "    .dataframe tbody tr th {\n",
       "        vertical-align: top;\n",
       "    }\n",
       "\n",
       "    .dataframe thead th {\n",
       "        text-align: right;\n",
       "    }\n",
       "</style>\n",
       "<table border=\"1\" class=\"dataframe\">\n",
       "  <thead>\n",
       "    <tr style=\"text-align: right;\">\n",
       "      <th></th>\n",
       "      <th>index</th>\n",
       "      <th>content</th>\n",
       "      <th>location</th>\n",
       "      <th>date</th>\n",
       "      <th>satisfaction</th>\n",
       "      <th>customer_service</th>\n",
       "      <th>speed</th>\n",
       "      <th>reliability</th>\n",
       "    </tr>\n",
       "  </thead>\n",
       "  <tbody>\n",
       "    <tr>\n",
       "      <th>0</th>\n",
       "      <td>0</td>\n",
       "      <td>Awful service  awful internet speed and reliab...</td>\n",
       "      <td>Manchester</td>\n",
       "      <td>2017-07-06</td>\n",
       "      <td>1</td>\n",
       "      <td>1</td>\n",
       "      <td>1</td>\n",
       "      <td>1</td>\n",
       "    </tr>\n",
       "    <tr>\n",
       "      <th>1</th>\n",
       "      <td>1</td>\n",
       "      <td>Poor customer service. Had to speak to 7 peopl...</td>\n",
       "      <td>Norbury</td>\n",
       "      <td>2017-07-06</td>\n",
       "      <td>2</td>\n",
       "      <td>2</td>\n",
       "      <td>3</td>\n",
       "      <td>3</td>\n",
       "    </tr>\n",
       "    <tr>\n",
       "      <th>2</th>\n",
       "      <td>2</td>\n",
       "      <td>Dreadful in every aspect. It simply does not w...</td>\n",
       "      <td>Tenbury Wells</td>\n",
       "      <td>2017-07-05</td>\n",
       "      <td>1</td>\n",
       "      <td>1</td>\n",
       "      <td>1</td>\n",
       "      <td>1</td>\n",
       "    </tr>\n",
       "    <tr>\n",
       "      <th>3</th>\n",
       "      <td>3</td>\n",
       "      <td>SHOCKING service. Placed order  got told it wi...</td>\n",
       "      <td>Morpeth</td>\n",
       "      <td>2017-07-04</td>\n",
       "      <td>1</td>\n",
       "      <td>1</td>\n",
       "      <td>1</td>\n",
       "      <td>1</td>\n",
       "    </tr>\n",
       "    <tr>\n",
       "      <th>4</th>\n",
       "      <td>4</td>\n",
       "      <td>Very unhappy with connection quality and custo...</td>\n",
       "      <td>Norfolk</td>\n",
       "      <td>2017-07-04</td>\n",
       "      <td>1</td>\n",
       "      <td>1</td>\n",
       "      <td>1</td>\n",
       "      <td>1</td>\n",
       "    </tr>\n",
       "    <tr>\n",
       "      <th>...</th>\n",
       "      <td>...</td>\n",
       "      <td>...</td>\n",
       "      <td>...</td>\n",
       "      <td>...</td>\n",
       "      <td>...</td>\n",
       "      <td>...</td>\n",
       "      <td>...</td>\n",
       "      <td>...</td>\n",
       "    </tr>\n",
       "    <tr>\n",
       "      <th>3187</th>\n",
       "      <td>35</td>\n",
       "      <td>Just a warning about BT Infinity  the BT Hub b...</td>\n",
       "      <td>Wales</td>\n",
       "      <td>2017-08-26</td>\n",
       "      <td>1</td>\n",
       "      <td>1</td>\n",
       "      <td>3</td>\n",
       "      <td>1</td>\n",
       "    </tr>\n",
       "    <tr>\n",
       "      <th>3188</th>\n",
       "      <td>36</td>\n",
       "      <td>I have had a contract with BT for telephone  b...</td>\n",
       "      <td>Wimbledon</td>\n",
       "      <td>2017-08-26</td>\n",
       "      <td>1</td>\n",
       "      <td>1</td>\n",
       "      <td>1</td>\n",
       "      <td>1</td>\n",
       "    </tr>\n",
       "    <tr>\n",
       "      <th>3189</th>\n",
       "      <td>37</td>\n",
       "      <td>Little satisfaction from BT sales/help; poor s...</td>\n",
       "      <td>Norton Bavant</td>\n",
       "      <td>2017-08-26</td>\n",
       "      <td>1</td>\n",
       "      <td>1</td>\n",
       "      <td>1</td>\n",
       "      <td>2</td>\n",
       "    </tr>\n",
       "    <tr>\n",
       "      <th>3190</th>\n",
       "      <td>38</td>\n",
       "      <td>Just don't do it.  New build took 11 weeks for...</td>\n",
       "      <td>Milton Keynes</td>\n",
       "      <td>2017-08-25</td>\n",
       "      <td>1</td>\n",
       "      <td>1</td>\n",
       "      <td>5</td>\n",
       "      <td>3</td>\n",
       "    </tr>\n",
       "    <tr>\n",
       "      <th>3191</th>\n",
       "      <td>39</td>\n",
       "      <td>TRYING TO GET BROADBAND IN BEDROOM AS WELL AS ...</td>\n",
       "      <td>ROTHERHAM</td>\n",
       "      <td>2017-08-24</td>\n",
       "      <td>1</td>\n",
       "      <td>1</td>\n",
       "      <td>1</td>\n",
       "      <td>1</td>\n",
       "    </tr>\n",
       "  </tbody>\n",
       "</table>\n",
       "<p>3192 rows × 8 columns</p>\n",
       "</div>"
      ],
      "text/plain": [
       "      index                                            content       location  \\\n",
       "0         0  Awful service  awful internet speed and reliab...     Manchester   \n",
       "1         1  Poor customer service. Had to speak to 7 peopl...        Norbury   \n",
       "2         2  Dreadful in every aspect. It simply does not w...  Tenbury Wells   \n",
       "3         3  SHOCKING service. Placed order  got told it wi...        Morpeth   \n",
       "4         4  Very unhappy with connection quality and custo...        Norfolk   \n",
       "...     ...                                                ...            ...   \n",
       "3187     35  Just a warning about BT Infinity  the BT Hub b...          Wales   \n",
       "3188     36  I have had a contract with BT for telephone  b...      Wimbledon   \n",
       "3189     37  Little satisfaction from BT sales/help; poor s...  Norton Bavant   \n",
       "3190     38  Just don't do it.  New build took 11 weeks for...  Milton Keynes   \n",
       "3191     39  TRYING TO GET BROADBAND IN BEDROOM AS WELL AS ...      ROTHERHAM   \n",
       "\n",
       "            date satisfaction customer_service speed reliability  \n",
       "0     2017-07-06            1                1     1           1  \n",
       "1     2017-07-06            2                2     3           3  \n",
       "2     2017-07-05            1                1     1           1  \n",
       "3     2017-07-04            1                1     1           1  \n",
       "4     2017-07-04            1                1     1           1  \n",
       "...          ...          ...              ...   ...         ...  \n",
       "3187  2017-08-26            1                1     3           1  \n",
       "3188  2017-08-26            1                1     1           1  \n",
       "3189  2017-08-26            1                1     1           2  \n",
       "3190  2017-08-25            1                1     5           3  \n",
       "3191  2017-08-24            1                1     1           1  \n",
       "\n",
       "[3192 rows x 8 columns]"
      ]
     },
     "execution_count": 8,
     "metadata": {},
     "output_type": "execute_result"
    }
   ],
   "source": [
    "# data_frame.drop(labels='index', axis=1, inplace=True)\n",
    "data_frame"
   ]
  },
  {
   "cell_type": "code",
   "execution_count": 9,
   "id": "3380c094",
   "metadata": {},
   "outputs": [
    {
     "name": "stdout",
     "output_type": "stream",
     "text": [
      "<class 'pandas.core.frame.DataFrame'>\n",
      "RangeIndex: 3192 entries, 0 to 3191\n",
      "Data columns (total 8 columns):\n",
      " #   Column            Non-Null Count  Dtype \n",
      "---  ------            --------------  ----- \n",
      " 0   index             3192 non-null   int64 \n",
      " 1   content           3189 non-null   object\n",
      " 2   location          3134 non-null   object\n",
      " 3   date              3192 non-null   object\n",
      " 4   satisfaction      2832 non-null   object\n",
      " 5   customer_service  2796 non-null   object\n",
      " 6   speed             2773 non-null   object\n",
      " 7   reliability       2761 non-null   object\n",
      "dtypes: int64(1), object(7)\n",
      "memory usage: 199.6+ KB\n"
     ]
    }
   ],
   "source": [
    "data_frame.info()"
   ]
  },
  {
   "cell_type": "markdown",
   "id": "29e4398e",
   "metadata": {},
   "source": [
    "## Saving this dataframe to a csv_file"
   ]
  },
  {
   "cell_type": "code",
   "execution_count": 10,
   "id": "aa6fbd0d",
   "metadata": {},
   "outputs": [],
   "source": [
    "loc_to_save = LOCATION + 'bt_data.csv'\n",
    "data_frame.to_csv(loc_to_save)"
   ]
  }
 ],
 "metadata": {
  "kernelspec": {
   "display_name": "Python 3 (ipykernel)",
   "language": "python",
   "name": "python3"
  },
  "language_info": {
   "codemirror_mode": {
    "name": "ipython",
    "version": 3
   },
   "file_extension": ".py",
   "mimetype": "text/x-python",
   "name": "python",
   "nbconvert_exporter": "python",
   "pygments_lexer": "ipython3",
   "version": "3.9.6"
  }
 },
 "nbformat": 4,
 "nbformat_minor": 5
}
